{
 "cells": [
  {
   "cell_type": "markdown",
   "id": "beaccd0a",
   "metadata": {},
   "source": [
    "# Exemplo: Validando o U-Classifier em Dados Reais\n",
    "\n",
    "Este notebook demonstra como usar as funções do pacote `uclassifier` para testar o classificador em um dataset real, replicando a metodologia de validação cruzada descrita no artigo de Ahmad & Pavlenko (2018) para os dados de Shipp et al. (2002).\n",
    "\n",
    "**Objetivo:**\n",
    "1. Carregar um dataset de um arquivo CSV.\n",
    "2. Executar uma validação cruzada de 3-folds, repetida 100 vezes para estabilidade.\n",
    "3. Calcular e analisar as taxas de erro APER, `e(1|0)` e `e(0|1)`."
   ]
  },
  {
   "cell_type": "code",
   "execution_count": null,
   "id": "63988a84",
   "metadata": {
    "vscode": {
     "languageId": "plaintext"
    }
   },
   "outputs": [],
   "source": [
    "# Importa as funções necessárias do pacote e de outras bibliotecas\n",
    "import pandas as pd\n",
    "import numpy as np\n",
    "from sklearn.model_selection import StratifiedKFold\n",
    "\n",
    "# Importa a função principal do nosso pacote\n",
    "from uclassifier.core import u_classifier_multisample"
   ]
  },
  {
   "cell_type": "markdown",
   "id": "f5317131",
   "metadata": {},
   "source": [
    "## Passo 1: Carregar e Preparar os Dados\n",
    "Vamos carregar o dataset de exemplo `shipp_data_sample.csv`, que simula a estrutura do dataset original. Substitua o `filepath` pelo caminho do seu próprio arquivo de dados."
   ]
  },
  {
   "cell_type": "code",
   "execution_count": null,
   "id": "3430e39f",
   "metadata": {
    "vscode": {
     "languageId": "plaintext"
    }
   },
   "outputs": [],
   "source": [
    "data_df = pd.read_csv(\"../data/dados_shipp.csv\")\n",
    "\n",
    "# Separa as características (X) da variável alvo (y)\n",
    "X = data_df.drop(columns=['y']).values\n",
    "y = data_df['y'].values\n",
    "\n",
    "# Converte as classes de texto para números: 0 (DLBCL) e 1 (FL)\n",
    "classes, y_numeric = np.unique(y, return_inverse=True)\n",
    "class_map = {label: i for i, label in enumerate(classes)}"
   ]
  },
  {
   "cell_type": "code",
   "execution_count": null,
   "id": "46a5de9d",
   "metadata": {
    "vscode": {
     "languageId": "plaintext"
    }
   },
   "outputs": [],
   "source": [
    "print(\\\"Dataset Info:\\\")\n",
    "print(f\"p: {data_df.shape[1]} gene expressions\")\n",
    "print(f\"N: {data_df.shape[0]} patients\")\n",
    "print(f\"    one with DLBCL: {data_df.y.value_counts()['DLBCL']}\")\n",
    "print(f\"    the other with follicular lymphoma (FL): {data_df.y.value_counts()['FL']}\")"
   ]
  },
  {
   "cell_type": "markdown",
   "id": "e1922948",
   "metadata": {},
   "source": [
    "## Passo 2: Executar a Validação Cruzada com Múltiplas Réplicas"
   ]
  },
  {
   "cell_type": "code",
   "execution_count": null,
   "id": "ddac313e",
   "metadata": {
    "vscode": {
     "languageId": "plaintext"
    }
   },
   "outputs": [],
   "source": [
    "#For a 3-fold CV, we randomly divide the data into three groups of sizes 26,26, 25 with n1(L) = 52, n1(T ) = 25 and nk(L) = 51, nk(T ) = 26 for k = 2; 3.\n",
    "n_splits = 3\n",
    "all_fold_results = []\n",
    "n_replicas = 100"
   ]
  },
  {
   "cell_type": "code",
   "execution_count": null,
   "id": "9486e0b6",
   "metadata": {
    "vscode": {
     "languageId": "plaintext"
    }
   },
   "outputs": [],
   "source": [
    "for replica in range(n_replicas):\n",
    "    # Usar um random_state diferente para cada réplica garante novas divisões dos dados\n",
    "    skf = StratifiedKFold(n_splits=n_splits, shuffle=True, random_state=replica)\n",
    "    \n",
    "    for fold, (train_idx, test_idx) in enumerate(skf.split(X, y_numeric), 1):\n",
    "        X_train, X_test = X[train_idx], X[test_idx]\n",
    "        y_train, y_test = y_numeric[train_idx], y_numeric[test_idx]\n",
    "\n",
    "        n1_L = np.sum(y_train == 0)\n",
    "        n2_L = np.sum(y_train == 1)\n",
    "        n1_T = np.sum(y_test == 0)\n",
    "        n2_T = np.sum(y_test == 1)\n",
    "        \n",
    "        train_samples_by_class = [X_train[y_train == i] for i in range(len(classes))]\n",
    "        \n",
    "        m12 = 0 # Erro: Verdadeiro é classe 0 (DLBCL), previsto como 1 (FL)\n",
    "        m21 = 0 # Erro: Verdadeiro é classe 1 (FL), previsto como 0 (DLBCL)\n",
    "        \n",
    "        for i in range(len(X_test)):\n",
    "            true_class_idx = y_test[i]\n",
    "            predicted_class_idx = u_classifier_multisample(X_test[i], train_samples_by_class, return_scores=False)\n",
    "            \n",
    "            if predicted_class_idx != true_class_idx:\n",
    "                if true_class_idx == 0 and predicted_class_idx == 1:\n",
    "                    m12 += 1\n",
    "                elif true_class_idx == 1 and predicted_class_idx == 0:\n",
    "                    m21 += 1\n",
    "\n",
    "        aper_fold = (m12 + m21) / len(y_test) if len(y_test) > 0 else 0\n",
    "        e10_fold = m12 / n1_T if n1_T > 0 else 0\n",
    "        e01_fold = m21 / n2_T if n2_T > 0 else 0\n",
    "\n",
    "        all_fold_results.append({\n",
    "            'replica': replica + 1,\n",
    "            'fold': fold,\n",
    "            'n1_L': n1_L,\n",
    "            'n2_L': n2_L,\n",
    "            'n1_T': n1_T,\n",
    "            'n2_T': n2_T,\n",
    "            'm12': m12,\n",
    "            'm21': m21,\n",
    "            'aper_fold': aper_fold, \n",
    "            'e10_fold': e10_fold, \n",
    "            'e01_fold': e01_fold\n",
    "        })"
   ]
  },
  {
   "cell_type": "markdown",
   "id": "9ee97f9a",
   "metadata": {},
   "source": [
    "## Passo 3: Analisar os Resultados"
   ]
  },
  {
   "cell_type": "code",
   "execution_count": null,
   "id": "6a2a525d",
   "metadata": {
    "vscode": {
     "languageId": "plaintext"
    }
   },
   "outputs": [],
   "source": [
    "results_df = pd.DataFrame(all_fold_results)\n",
    "\n",
    "# Calcula as médias a partir do DataFrame detalhado\n",
    "avg_aper = results_df['aper_fold'].mean()\n",
    "avg_e10 = results_df['e10_fold'].mean()\n",
    "avg_e01 = results_df['e01_fold'].mean()\n",
    "\n",
    "# Calcula e imprime as médias\n",
    "total_errors_per_replica = results_df.groupby('replica')[['m12', 'm21']].sum().sum(axis=1)\n",
    "avg_total_errors = total_errors_per_replica.mean()\n",
    "\n",
    "print(\"\\n--- Resultados Médios de {} Réplicas ---\".format(n_replicas))\n",
    "print(f\"Taxa de erro e(1|0) média (DLBCL -> FL): {avg_e10:.4f}\")\n",
    "print(f\"Taxa de erro e(0|1) média (FL -> DLBCL): {avg_e01:.4f}\")\n",
    "print(f\"Taxa de erro de classificação média (APER): {avg_aper:.4f} ({avg_total_errors:.0f}/{len(y)})\")\n",
    "\n",
    "article_rate = 15 / 77\n",
    "print(f\"\\nTaxa de erro no artigo (Shipp et al.): {article_rate:.4f} (15/77)\")"
   ]
  },
  {
   "cell_type": "code",
   "execution_count": null,
   "id": "61a8aefa",
   "metadata": {
    "vscode": {
     "languageId": "plaintext"
    }
   },
   "outputs": [],
   "source": [
    "print(\\\"--- Tabela de Resultados Detalhados (Primeiras 10 Linhas) ---\")\n",
    "print(results_df.head(10))"
   ]
  }
 ],
 "metadata": {
  "language_info": {
   "name": "python"
  }
 },
 "nbformat": 4,
 "nbformat_minor": 5
}

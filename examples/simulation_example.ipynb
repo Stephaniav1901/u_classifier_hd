{
 "cells": [
  {
   "cell_type": "markdown",
   "id": "8690599a",
   "metadata": {},
   "source": [
    "# Exemplo de Simulação com o Pacote U-Classifier\n",
    "\n",
    "Este notebook demonstra como usar as funções do pacote `uclassifier` para replicar as simulações descritas no artigo de Ahmad & Pavlenko (2018).\n",
    "\n",
    "**Objetivo:**\n",
    "1.  Gerar gráficos de taxa de erro (`e(1|0)` e `e(0|1)`) em função da dimensionalidade `p`.\n",
    "2.  Gerar QQ-plots para analisar a normalidade do classificador `A(x)`."
   ]
  },
  {
   "cell_type": "code",
   "execution_count": null,
   "id": "19d7490d",
   "metadata": {
    "vscode": {
     "languageId": "plaintext"
    }
   },
   "outputs": [],
   "source": [
    "# Importa as funções necessárias do pacote e de outras bibliotecas\n",
    "import numpy as np\n",
    "import matplotlib.pyplot as plt\n",
    "from uclassifier.aux import (\n",
    "    calculate_theoretical_errors,\n",
    "    run_simulation_iteration,\n",
    "    plot_results,\n",
    "    plot_qq,\n",
    "    generate_data,\n",
    "    create_ar1_covariance\n",
    ")\n",
    "from uclassifier.core import u_classifier_multisample"
   ]
  },
  {
   "cell_type": "markdown",
   "id": "b503779c",
   "metadata": {},
   "source": [
    "## Seção 1: Simulação das Taxas de Erro"
   ]
  },
  {
   "cell_type": "code",
   "execution_count": null,
   "id": "bb06a287",
   "metadata": {
    "vscode": {
     "languageId": "plaintext"
    }
   },
   "outputs": [],
   "source": [
    "# Parâmetros da simulação, conforme o artigo\n",
    "p_values = [10, 20, 50, 100, 300, 500]\n",
    "n_configs = [{'n1': 5, 'n2': 7}]\n",
    "dist_configs = ['normal', 't']\n",
    "cov_case_configs = ['AR-AR']#'AR-UN',\n",
    "num_runs = 50  # O artigo usa 1000, mas 50 é mais rápido para testes,\n",
    "\n",
    "for n_config in n_configs:\n",
    "    for cov_case in cov_case_configs:\n",
    "\n",
    "        base_title = f\"n1={n_config['n1']}, n2={n_config['n2']} | Covariâncias: {cov_case}\"\n",
    "        print(f\"--- Iniciando Simulação: {base_title} ---\")\n",
    "\n",
    "        results_e10 = {}\n",
    "        results_e01 = {}\n",
    "        theoretical_e10 = {}\n",
    "        theoretical_e01 = {}\n",
    "\n",
    "        # Calcula os erros teóricos uma vez para cada 'p'\n",
    "        for p in p_values:\n",
    "            params = {**n_config, 'p': p, 'cov_case': cov_case}\n",
    "            if cov_case == 'AR-AR':\n",
    "                sigma1 = create_ar1_covariance(p, 0.3)\n",
    "                sigma2 = create_ar1_covariance(p, 0.7)\n",
    "            else: # 'AR-UN'\n",
    "                sigma1 = create_ar1_covariance(p, 0.5)\n",
    "                sigma2 = create_unstructured_covariance(p)\n",
    "            mu1, mu2 = generate_mean_vectors(p)\n",
    "            e10, e01 = calculate_theoretical_errors(mu1=mu1, mu2=mu2, Sigma1=sigma1, Sigma2=sigma2, n1=n_config['n1'], n2=n_config['n2'])\n",
    "            theoretical_e10[p] = e10\n",
    "            theoretical_e01[p] = e01\n",
    "        \n",
    "        # Executa as simulações de Monte Carlo para cada distribuição\n",
    "        for dist in dist_configs:\n",
    "            errors_by_p_e10, errors_by_p_e01 = {}, {}\n",
    "            label = f\"Estimado: {dist.upper()}\"\n",
    "            print(f\"  Avaliando para {label}...\")\n",
    "            \n",
    "            for p in p_values:\n",
    "                current_errors_e10 = []\n",
    "                current_errors_e01 = []\n",
    "                for i in range(num_runs):\n",
    "                    params = {**n_config, 'p': p, 'dist': dist, 'cov_case': cov_case}\n",
    "                    e10, e01 = run_simulation_iteration(params)\n",
    "                    current_errors_e10.append(e10)\n",
    "                    current_errors_e01.append(e01)\n",
    "                \n",
    "                errors_by_p_e10[p] = np.mean(current_errors_e10)\n",
    "                errors_by_p_e01[p] = np.mean(current_errors_e01)\n",
    "                print(f\"    p = {p:<4} | e(1|0)={np.mean(current_errors_e10):.4f}, e(0|1)={np.mean(current_errors_e01):.4f}\")\n",
    "            \n",
    "            results_e10[label] = errors_by_p_e10\n",
    "            results_e01[label] = errors_by_p_e01\n",
    "        \n",
    "        # Plota os resultados para a configuração atual\n",
    "        plot_results(results_e10,  base_title, \"Taxa de Erro e(1|0)\", theoretical_e10)\n",
    "        plot_results(results_e01,  base_title, \"Taxa de Erro e(0|1)\", theoretical_e01)"
   ]
  },
  {
   "cell_type": "markdown",
   "id": "465f89f8",
   "metadata": {},
   "source": [
    "## Seção 2: Geração dos QQ-Plots"
   ]
  },
  {
   "cell_type": "code",
   "execution_count": null,
   "id": "fb8fa03c",
   "metadata": {
    "vscode": {
     "languageId": "plaintext"
    }
   },
   "outputs": [],
   "source": [
    "qq_p_values = [100, 500, 1000]\n",
    "qq_n_config = {'n1': 5, 'n2': 7}\n",
    "\n",
    "# Ordem conforme a legenda da Figura 1 do artigo\n",
    "qq_configs = [\n",
    "    #{'dist': 'normal', 'cov_case': 'AR-UN', 'label': 'Normal | AR-UN'},\n",
    "    {'dist': 'normal', 'cov_case': 'AR-AR', 'label': 'Normal | AR-AR'},\n",
    "    #{'dist': 't-student', 'cov_case': 'AR-UN', 'label': 't-student-Student | AR-UN'},\n",
    "    {'dist': 't-student', 'cov_case': 'AR-AR', 'label': 't-Student | AR-AR'},\n",
    "]\n",
    "num_qq_samples = 1000 # Número de pontos a serem gerados para o gráfico\n",
    "\n",
    "fig, axes = plt.subplots(len(qq_configs), len(qq_p_values), figsize=(12, 16), constrained_layout=True)\n",
    "fig.suptitle(\"QQ-Plots de Normalidade do Classificador A(x)\", fontsize=16)\n",
    "\n",
    "for row, config in enumerate(qq_configs):\n",
    "    for col, p in enumerate(qq_p_values):\n",
    "        print(f\"  Gerando dados para QQ-Plot: p={p}, dist={config['dist']}, cov={config['cov_case']}...\")\n",
    "        params = {**qq_n_config, 'p': p, 'dist': config['dist'], 'cov_case': config['cov_case']}\n",
    "\n",
    "        # Gerar dados de treino e teste\n",
    "        mu1 = np.zeros(p)\n",
    "        mu2 = np.ones(p)\n",
    "        mu2[:p // 3] = 0\n",
    "\n",
    "        if params['cov_case'] == 'AR-AR':\n",
    "            cov1 = create_ar1_covariance(p, 0.3)\n",
    "            cov2 = create_ar1_covariance(p, 0.7)\n",
    "        else: # 'AR-UN'\n",
    "            cov1 = create_ar1_covariance(p, 0.5)\n",
    "            cov2 = create_unstructured_covariance(p)\n",
    "\n",
    "        X1_train = generate_data(params['n1'], mu1, cov1, params['dist'])\n",
    "        X2_train = generate_data(params['n2'], mu2, cov2, params['dist'])\n",
    "        \n",
    "        # Geramos os scores para x vindo da população 1\n",
    "        X_test = generate_data(num_qq_samples, mu1, cov1, params['dist'])\n",
    "        \n",
    "        # Calcula os scores do classificador A(x) = A₁(x) - A₂(x)\n",
    "        score_diffs = []\n",
    "        for x_test in X_test:\n",
    "            # Chama a função para obter os scores [A₁(x), A₂(x)]\n",
    "            scores = u_classifier_multisample(x_test, [X1_train, X2_train], return_scores=True)\n",
    "            score_diffs.append(scores[0] - scores[1])\n",
    "        \n",
    "        classifier_scores = np.array(score_diffs)\n",
    "\n",
    "        # Padroniza os scores para uma melhor visualização\n",
    "        if np.std(classifier_scores) > 1e-9: # Evita divisão por zero\n",
    "            standardized_scores = (classifier_scores - np.mean(classifier_scores)) / np.std(classifier_scores)\n",
    "        else:\n",
    "            standardized_scores = classifier_scores - np.mean(classifier_scores)\n",
    "        \n",
    "        # Plotando no eixo correto\n",
    "        ax = axes[row, col]\n",
    "        plot_qq(standardized_scores, ax, f\"p={p}\")\n",
    "        \n",
    "        # Adiciona rótulo da linha à esquerda\n",
    "        if col == 0:\n",
    "            ax.set_ylabel(f\"{config['label']}\\n\\nQuantis da Amostra\")\n",
    "\n",
    "plt.show()"
   ]
  }
 ],
 "metadata": {
  "language_info": {
   "name": "python"
  }
 },
 "nbformat": 4,
 "nbformat_minor": 5
}
